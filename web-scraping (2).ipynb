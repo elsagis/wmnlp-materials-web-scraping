{
 "cells": [
  {
   "cell_type": "markdown",
   "metadata": {},
   "source": [
    "# Web Mining and Applied NLP (44-620)\n",
    "\n",
    "## Web Scraping and NLP with Requests, BeautifulSoup, and spaCy\n",
    "\n",
    "### Student Name: Elsa Ghirmazion\n",
    "### https://github.com/elsagis/wmnlp-materials-web-scraping\n",
    "\n",
    "\n",
    "Perform the tasks described in the Markdown cells below.  When you have completed the assignment make sure your code cells have all been run (and have output beneath them) and ensure you have committed and pushed ALL of your changes to your assignment repository.\n",
    "\n",
    "Every question that requires you to write code will have a code cell underneath it; you may either write your entire solution in that cell or write it in a python file (`.py`), then import and run the appropriate code to answer the question."
   ]
  },
  {
   "cell_type": "markdown",
   "metadata": {},
   "source": [
    "# Q1"
   ]
  },
  {
   "cell_type": "markdown",
   "metadata": {},
   "source": [
    "1. Write code that extracts the article html from https://web.archive.org/web/20210327165005/https://hackaday.com/2021/03/22/how-laser-headlights-work/ and dumps it to a .pkl (or other appropriate file)"
   ]
  },
  {
   "cell_type": "code",
   "execution_count": 2,
   "metadata": {},
   "outputs": [],
   "source": [
    "import requests\n",
    "response = requests.get('https://web.archive.org/web/20210327165005/https://hackaday.com/2021/03/22/how-laser-headlights-wOrk')\n",
    "\n",
    "\n",
    "#print(response.status_code)\n",
    "#print(response.headers['content-type'])\n",
    "# uncomment next line to print the full HTML text; it's long so when done, recomment\n",
    "#print(response.text)\n",
    "article_page = requests.get('https://web.archive.org/web/20210327165005/https://hackaday.com/2021/03/22/how-laser-headlights-wOrk')\n",
    "article_html = article_page.text\n",
    "\n",
    "import pickle\n",
    "with open('python-match.pkl', 'wb') as f:\n",
    "    pickle.dump(article_page.text, f)"
   ]
  },
  {
   "cell_type": "markdown",
   "metadata": {},
   "source": [
    "# Q2"
   ]
  },
  {
   "cell_type": "markdown",
   "metadata": {},
   "source": [
    "2. Read in your article's html source from the file you created in question 1 and print it's text (use `.get_text()`)"
   ]
  },
  {
   "cell_type": "code",
   "execution_count": 7,
   "metadata": {},
   "outputs": [
    {
     "name": "stdout",
     "output_type": "stream",
     "text": [
      "\n",
      "\n",
      "How Laser Headlights Work\n",
      "\n",
      "\n",
      "                130 Comments            \n",
      "\n",
      "by:\n",
      "Lewin Day\n",
      "\n",
      "\n",
      "\n",
      "March 22, 2021\n",
      "\n",
      "\n",
      "\n",
      "\n",
      "\n",
      "\n",
      "\n",
      "\n",
      "When we think about the onward march of automotive technology, headlights aren’t usually the first thing that come to mind. Engines, fuel efficiency, and the switch to electric power are all more front of mind. However, that doesn’t mean there aren’t thousands of engineers around the world working to improve the state of the art in automotive lighting day in, day out.\n",
      "Sealed beam headlights gave way to more modern designs once regulations loosened up, while bulbs moved from simple halogens to xenon HIDs and, more recently, LEDs. Now, a new technology is on the scene, with lasers!\n",
      "\n",
      "Laser Headlights?!\n",
      "BWM’s prototype laser headlight assemblies undergoing testing.\n",
      "The first image brought to mind by the phrase “laser headlights” is that of laser beams firing out the front of an automobile. Obviously, coherent beams of monochromatic light would make for poor illumination outside of a very specific spot quite some distance away. Thankfully for our eyes, laser headlights don’t work in this way at all.\n",
      "Instead, laser headlights consist of one or more solid state laser diodes mounted inside the headlight. These blue lasers are fired at a yellow phosphor, similar to that used in white LEDs. This produces a powerful, vibrant white light that can then be bounced off reflectors and out of the headlights towards the road. Laser headlights built in this way have several benefits. They’re more energy efficient than LEDs that put out the same amount of light, while also being more space efficient, too.\n",
      "BWM’s futuristic i8 was one of the first vehicles to ship with laser headlight technology.\n",
      "Laser headlights are still a nascent technology, thus far only appearing in a few BMW, Audi, and other select vehicles. BMW’s technology was developed in partnership with lighting experts OSRAM. In practice, a regular LED low-beam lamp is used, with the laser used to create an incredibly bright and focused spot, used for high-beams. This can provide illumination out to 600 meters ahead of the vehicle, double that of conventional LED high beams. The lights use indium gallium nitride diode lasers that were originally used in projectors, with power levels above 1 watt. One of the challenges in implementing such technology in an automotive environment is the need for it to operate at temperature extremes. While research lasers and laser pointers may primarily be used at typical room temperatures, automotive headlights must be able to withstand everything from 40 degrees below zero up to 50 degrees C. Thankfully, the laser’s high efficiency means it doesn’t have huge heat output of its own to further complicate things. Other engineering challenges involve tailoring the optics package for the rough-and-tumble, high vibration environment found in the automotive application. It’s also important to ensure, as with any such device, that the end user can’t be exposed to harmful laser radiation in the event of accident or malfunction.\n",
      "Tearing Down the Laser Headlight\n",
      "A marketing image showing the construction of an aftermarket LED/laser headlight. We’d take the laser power with a grain of salt — it’s difficult to imagine a 10 W laser shining directly on some small LEDs without melting a hole through the board in short order.\n",
      "An aftermarket has sprung up too, with delightfully innovative designs. Combined laser/LED headlights are readily available on Alibaba, designed as a drop in replacement for projector lamps on existing vehicles. These often use an LED low-beam, and a combined LED/laser high beam, where the laser diode shoots directly at the LED phosphor to excite it further, rather than using its own. These units often also come with fan cooling to keep the laser and LEDs below their maximum operational temperature. Such developments are exciting, though it’s important to be wary of the performance of unknown aftermarket headlights. Many aftermarket LED headlight “upgrades” fail to pass muster when it comes to real-world performance, and there’s no reason to believe hybrid LED/laser designs will be any different. We’d love to pass a selection of these parts through a full IIHS test protocol, but that’s sadly beyond the scope (and budget!) of this article.\n",
      "However, [mikeselectricstuff] has happened to lay his hands on both the BMW and aftermarket parts, tearing them all down in his workshop to see what makes them tick. The differences are multitude when laid bare on the bench. The AliExpress part is relatively simple, wired up no differently from a regular headlight. Interestingly, however, the laser high-beam circuit runs all the time in these parts. To prevent blinding other road users, a shutter is kept in place to block the light, which is moved out of the way with a solenoid when the driver turns on the high beam switch.\n",
      "Where the aftermarket part is a little out of left field, the BMW design is another thing entirely. The cutting-edge headlights are hooked up with multiple connectors and over 30 conductors, with much of the driver electronics living in an external controller. Much of this is to drive the various LEDs and stepper motors for slewing the headlights when steering. However, the laser assembly brings its own complexities. Twin light sensors are built inside to monitor the laser beam, and a special metal blocking arm sits directly in front of the diode, presumably to stop the laser light leaving the headlight in the event the phosphor coating burns through. It’s truly wild to get a look inside a modern luxury car’s headlight and see just how far we’ve come from the old days of simple sealed beams.\n",
      "Cost Versus Performance\n",
      "Despite the efficiency gains available, the technology remains expensive. Powerful laser diodes don’t come cheap, after all. However, as the technology trickles down to lower-end models, it’s likely that we could see economies of scale change that for the better. Indeed, if national authorities begin to demand higher performance headlights as standard, we could see laser headlights become the norm, rather than an expensive luxury. The technology could naturally be applied to home and commercial lighting, too — though we suspect the potential gains are limited enough that LED lighting will remain the norm for some time to come.\n",
      "The high light output of laser headlights in a compact package allows engineers greater freedom when designing the front-end of a car.\n",
      "As it currently stands, much of the appeal of the new technology is about the packaging benefits, which allow automotive designers greater freedom around the headlight area. Such concerns are less of a factor when it comes to light fittings in the home or office, or indeed, on lower-end automobiles. Regardless, it’s an exciting new application for lasers and one we’ll be sure to see more of in the future.\n",
      " \n",
      "\n",
      "\n",
      "\n",
      "\n",
      " \n",
      "\n",
      "\n",
      "\n",
      "\n",
      "\n",
      "\n",
      "\n",
      "\n",
      "\n",
      "\n",
      "\n",
      "\n",
      "\n",
      "\n",
      "\n",
      "\n",
      "\n",
      "\n",
      "\n",
      "Posted in car hacks, Engineering, Featured, Laser Hacks, SliderTagged laser, laser headlight, laser headlights, light \n",
      "\n"
     ]
    }
   ],
   "source": [
    "from bs4 import BeautifulSoup\n",
    "\n",
    "# parser = 'html5lib'\n",
    "parser = 'html.parser'\n",
    "\n",
    "soup = BeautifulSoup(response.text, parser)\n",
    "# Uncomment next lines to explore full page contents; it's long so when done, recomment\n",
    "# print(soup)\n",
    "# print(soup.prettify())\n",
    "\n",
    "article_page = requests.get('https://web.archive.org/web/20210327165005/https://hackaday.com/2021/03/22/how-laser-headlights-wOrk')\n",
    "article_html = article_page.text\n",
    "\n",
    "import pickle\n",
    "with open('python-match.pkl', 'wb') as f:\n",
    "    pickle.dump(article_page.text, f)\n",
    "    \n",
    "soup = BeautifulSoup(article_html, parser)\n",
    "\n",
    "article_element = soup.find('article')\n",
    "#print(article_element)\n",
    "print(article_element.get_text())"
   ]
  },
  {
   "cell_type": "markdown",
   "metadata": {},
   "source": [
    "# Q3"
   ]
  },
  {
   "cell_type": "markdown",
   "metadata": {},
   "source": [
    "3. Load the article text into a trained `spaCy` pipeline, and determine the 5 most frequent tokens (converted to lower case).  Print the common tokens with an appropriate label.  Additionally, print the tokens their frequencies (with appropriate labels). Make sure to remove things we don't care about (punctuation, stopwords, whitespace)."
   ]
  },
  {
   "cell_type": "code",
   "execution_count": 6,
   "metadata": {},
   "outputs": [
    {
     "name": "stdout",
     "output_type": "stream",
     "text": [
      "[Laser, Headlights, Work, 130, Comments, Lewin, Day, March, 22, 2021, think, onward, march, automotive, technology, headlights, usually, thing, come, mind, Engines, fuel, efficiency, switch, electric, power, mind, mean, thousands, engineers, world, working, improve, state, art, automotive, lighting, day, day, Sealed, beam, headlights, gave, way, modern, designs, regulations, loosened, bulbs, moved, simple, halogens, xenon, HIDs, recently, LEDs, new, technology, scene, lasers, Laser, Headlights, BWM, prototype, laser, headlight, assemblies, undergoing, testing, image, brought, mind, phrase, laser, headlights, laser, beams, firing, automobile, Obviously, coherent, beams, monochromatic, light, poor, illumination, outside, specific, spot, distance, away, Thankfully, eyes, laser, headlights, work, way, Instead, laser, headlights, consist, solid, state, laser, diodes, mounted, inside, headlight, blue, lasers, fired, yellow, phosphor, similar, white, LEDs, produces, powerful, vibrant, white, light, bounced, reflectors, headlights, road, Laser, headlights, built, way, benefits, energy, efficient, LEDs, light, space, efficient, BWM, futuristic, i8, vehicles, ship, laser, headlight, technology, Laser, headlights, nascent, technology, far, appearing, BMW, Audi, select, vehicles, BMW, technology, developed, partnership, lighting, experts, OSRAM, practice, regular, LED, low, beam, lamp, laser, create, incredibly, bright, focused, spot, high, beams, provide, illumination, 600, meters, ahead, vehicle, double, conventional, LED, high, beams, lights, use, indium, gallium, nitride, diode, lasers, originally, projectors, power, levels, 1, watt, challenges, implementing, technology, automotive, environment, need, operate, temperature, extremes, research, lasers, laser, pointers, primarily, typical, room, temperatures, automotive, headlights, able, withstand, 40, degrees, zero, 50, degrees, C., Thankfully, laser, high, efficiency, means, huge, heat, output, complicate, things, engineering, challenges, involve, tailoring, optics, package, rough, tumble, high, vibration, environment, found, automotive, application, important, ensure, device, end, user, exposed, harmful, laser, radiation, event, accident, malfunction, Tearing, Laser, Headlight, marketing, image, showing, construction, aftermarket, LED, laser, headlight, laser, power, grain, salt, difficult, imagine, 10, W, laser, shining, directly, small, LEDs, melting, hole, board, short, order, aftermarket, sprung, delightfully, innovative, designs, Combined, laser, LED, headlights, readily, available, Alibaba, designed, drop, replacement, projector, lamps, existing, vehicles, use, LED, low, beam, combined, LED, laser, high, beam, laser, diode, shoots, directly, LED, phosphor, excite, units, come, fan, cooling, laser, LEDs, maximum, operational, temperature, developments, exciting, important, wary, performance, unknown, aftermarket, headlights, aftermarket, LED, headlight, upgrades, fail, pass, muster, comes, real, world, performance, reason, believe, hybrid, LED, laser, designs, different, love, pass, selection, parts, IIHS, test, protocol, sadly, scope, budget, article, mikeselectricstuff, happened, lay, hands, BMW, aftermarket, parts, tearing, workshop, makes, tick, differences, multitude, laid, bare, bench, AliExpress, relatively, simple, wired, differently, regular, headlight, Interestingly, laser, high, beam, circuit, runs, time, parts, prevent, blinding, road, users, shutter, kept, place, block, light, moved, way, solenoid, driver, turns, high, beam, switch, aftermarket, little, left, field, BMW, design, thing, entirely, cutting, edge, headlights, hooked, multiple, connectors, 30, conductors, driver, electronics, living, external, controller, drive, LEDs, stepper, motors, slewing, headlights, steering, laser, assembly, brings, complexities, Twin, light, sensors, built, inside, monitor, laser, beam, special, metal, blocking, arm, sits, directly, diode, presumably, stop, laser, light, leaving, headlight, event, phosphor, coating, burns, truly, wild, look, inside, modern, luxury, car, headlight, far, come, old, days, simple, sealed, beams, Cost, Versus, Performance, Despite, efficiency, gains, available, technology, remains, expensive, Powerful, laser, diodes, come, cheap, technology, trickles, lower, end, models, likely, economies, scale, change, better, national, authorities, begin, demand, higher, performance, headlights, standard, laser, headlights, norm, expensive, luxury, technology, naturally, applied, home, commercial, lighting, suspect, potential, gains, limited, LED, lighting, remain, norm, time, come, high, light, output, laser, headlights, compact, package, allows, engineers, greater, freedom, designing, end, car, currently, stands, appeal, new, technology, packaging, benefits, allow, automotive, designers, greater, freedom, headlight, area, concerns, factor, comes, light, fittings, home, office, lower, end, automobiles, Regardless, exciting, new, application, lasers, sure, future, Posted, car, hacks, Engineering, Featured, Laser, Hacks, SliderTagged, laser, laser, headlight, laser, headlights, light]\n",
      "[('laser', 34), ('headlight', 27), ('beam', 12), ('led', 11), ('technology', 10)]\n"
     ]
    }
   ],
   "source": [
    "import spacy\n",
    "from spacytextblob.spacytextblob import SpacyTextBlob\n",
    "\n",
    "nlp = spacy.load('en_core_web_sm')\n",
    "# adding sentiment analysis\n",
    "nlp.add_pipe('spacytextblob')\n",
    "doc = nlp(article_element.get_text())\n",
    "\n",
    "non_ws_tokens = []\n",
    "for token in doc:\n",
    "    if not token.is_space:\n",
    "        non_ws_tokens.append(token)\n",
    "#print(non_ws_tokens)\n",
    "def we_care_about(token):\n",
    "    return not (token.is_space or token.is_punct or token.is_stop)\n",
    "\n",
    "interesting_tokens = [token for token in doc if we_care_about(token)]\n",
    "print(interesting_tokens)\n",
    "\n",
    "from collections import Counter\n",
    "word_freq = Counter(map(str, interesting_tokens))\n",
    "#print(word_freq.most_common(5))\n",
    "interesting_lemmas = [token.lemma_ for token in doc if we_care_about(token)]\n",
    "lemma_freq = Counter(interesting_lemmas)\n",
    "\n",
    "print(lemma_freq.most_common(5))"
   ]
  },
  {
   "cell_type": "markdown",
   "metadata": {},
   "source": [
    "# Q4"
   ]
  },
  {
   "cell_type": "markdown",
   "metadata": {},
   "source": [
    "4. Load the article text into a trained `spaCy` pipeline, and determine the 5 most frequent lemmas (converted to lower case).  Print the common lemmas with an appropriate label.  Additionally, print the lemmas with their frequencies (with appropriate labels). Make sure to remove things we don't care about (punctuation, stopwords, whitespace)."
   ]
  },
  {
   "cell_type": "code",
   "execution_count": 5,
   "metadata": {},
   "outputs": [
    {
     "name": "stdout",
     "output_type": "stream",
     "text": [
      "[('laser', 40), ('headlight', 28), ('beam', 12), ('led', 11), ('technology', 10)]\n"
     ]
    }
   ],
   "source": [
    "import requests\n",
    "response = requests.get('https://web.archive.org/web/20210327165005/https://hackaday.com/2021/03/22/how-laser-headlights-wOrk')\n",
    "\n",
    "from bs4 import BeautifulSoup\n",
    "article_page = requests.get('https://web.archive.org/web/20210327165005/https://hackaday.com/2021/03/22/how-laser-headlights-wOrk')\n",
    "article_html = article_page.text\n",
    "\n",
    "import pickle\n",
    "with open('python-match.pkl', 'wb') as f:\n",
    "    pickle.dump(article_page.text, f)\n",
    "    \n",
    "import spacy\n",
    "from spacytextblob.spacytextblob import SpacyTextBlob\n",
    "\n",
    "nlp = spacy.load('en_core_web_sm')\n",
    "# adding sentiment analysis\n",
    "nlp.add_pipe('spacytextblob')\n",
    "doc = nlp(article_element.get_text())\n",
    "\n",
    "non_ws_tokens = []\n",
    "for token in doc:\n",
    "    if not token.is_space:\n",
    "        non_ws_tokens.append(token)\n",
    "#print(non_ws_tokens)\n",
    "def we_care_about(token):\n",
    "    return not (token.is_space or token.is_punct or token.is_stop)\n",
    "\n",
    "interesting_tokens = [token for token in doc if we_care_about(token)]\n",
    "#print(interesting_tokens)\n",
    "\n",
    "from collections import Counter\n",
    "word_freq = Counter(map(str, interesting_tokens))\n",
    "#print(word_freq.most_common(5))\n",
    "interesting_lemmas = [token.lemma_ for token in doc if we_care_about(token)]\n",
    "lemma_freq = Counter(interesting_lemmas)\n",
    "\n",
    "#print(lemma_freq.most_common(5))\n",
    "\n",
    "interesting_lemmas = [token.lemma_.lower() for token in doc if we_care_about(token)]\n",
    "lemma_freq = Counter(interesting_lemmas)\n",
    "\n",
    "# lets store the 5 most common words in a set\n",
    "cool_words = set()\n",
    "for lemma, freq in lemma_freq.most_common(5):\n",
    "    cool_words.add(lemma)\n",
    "#print(cool_words)\n",
    "interesting_lemmas = [token.lemma_.lower() for token in doc if we_care_about(token)]\n",
    "lemma_freq = Counter(interesting_lemmas)\n",
    "print(lemma_freq.most_common(5))"
   ]
  },
  {
   "cell_type": "markdown",
   "metadata": {},
   "source": [
    "# Q5"
   ]
  },
  {
   "cell_type": "markdown",
   "metadata": {},
   "source": [
    "# I have tried to check my function working in many ways, i can see the list count printed "
   ]
  },
  {
   "cell_type": "markdown",
   "metadata": {},
   "source": [
    "5. Define the following methods:\n",
    "    * `score_sentence_by_token(sentence, interesting_token)` that takes a sentence and a list of interesting token and returns the number of times that any of the interesting words appear in the sentence divided by the number of words in the sentence\n",
    "    * `score_sentence_by_lemma(sentence, interesting_lemmas)` that takes a sentence and a list of interesting lemmas and returns the number of times that any of the interesting lemmas appear in the sentence divided by the number of words in the sentence\n",
    "    \n",
    "You may find some of the code from the in class notes useful; feel free to use methods (rewrite them in this cell as well).  Test them by showing the score of the first sentence in your article using the frequent tokens and frequent lemmas identified in question 3."
   ]
  },
  {
   "cell_type": "code",
   "execution_count": 8,
   "metadata": {},
   "outputs": [
    {
     "name": "stdout",
     "output_type": "stream",
     "text": [
      "1 : How Laser Headlights Work                130 Comments            by:Lewin DayMarch 22, 2021\n",
      "2 : When we think about the onward march of automotive technology, headlights aren’t usually the first thing that come to mind.\n",
      "0 : Engines, fuel efficiency, and the switch to electric power are all more front of mind.\n",
      "0 : However, that doesn’t mean there aren’t thousands of engineers around the world working to improve the state of the art in automotive lighting day in, day out.\n",
      "3 : Sealed beam headlights gave way to more modern designs once regulations loosened up, while bulbs moved from simple halogens to xenon HIDs and, more recently, LEDs.\n",
      "2 : Now, a new technology is on the scene, with lasers!\n",
      "1 : Laser Headlights?!\n",
      "2 : BWM’s prototype laser headlight assemblies undergoing testing.\n",
      "4 : The first image brought to mind by the phrase “laser headlights” is that of laser beams firing out the front of an automobile.\n",
      "1 : Obviously, coherent beams of monochromatic light would make for poor illumination outside of a very specific spot quite some distance away.\n",
      "2 : Thankfully for our eyes, laser headlights don’t work in this way at all.\n",
      "4 : Instead, laser headlights consist of one or more solid state laser diodes mounted inside the headlight.\n",
      "2 : These blue lasers are fired at a yellow phosphor, similar to that used in white LEDs.\n",
      "1 : This produces a powerful, vibrant white light that can then be bounced off reflectors and out of the headlights towards the road.\n",
      "2 : Laser headlights built in this way have several benefits.\n",
      "1 : They’re more energy efficient than LEDs that put out the same amount of light, while also being more space efficient, too.\n",
      "3 : BWM’s futuristic i8 was one of the first vehicles to ship with laser headlight technology.\n",
      "3 : Laser headlights are still a nascent technology, thus far only appearing in a few BMW, Audi, and other select vehicles.\n",
      "1 : BMW’s technology was developed in partnership with lighting experts OSRAM.\n",
      "3 : In practice, a regular LED low-beam lamp is used, with the laser used to create an incredibly bright and focused spot, used for high-beams.\n",
      "1 : This can provide illumination out to 600 meters ahead of the vehicle, double that of conventional LED high beams.\n",
      "1 : The lights use indium gallium nitride diode lasers that were originally used in projectors, with power levels above 1 watt.\n",
      "1 : One of the challenges in implementing such technology in an automotive environment is the need for it to operate at temperature extremes.\n",
      "3 : While research lasers and laser pointers may primarily be used at typical room temperatures, automotive headlights must be able to withstand everything from 40 degrees below zero\n",
      "1 : up to 50 degrees C. Thankfully, the laser’s high efficiency means it doesn’t have huge heat output of its own to further complicate things.\n",
      "0 : Other engineering challenges involve tailoring the optics package for the rough-and-tumble, high vibration environment found in the automotive application.\n",
      "1 : It’s also important to ensure, as with any such device, that the end user can’t be exposed to harmful laser radiation in the event of accident or malfunction.\n",
      "5 : Tearing Down the Laser HeadlightA marketing image showing the construction of an aftermarket LED/laser headlight.\n",
      "3 : We’d take the laser power with a grain of salt — it’s difficult to imagine a 10 W laser shining directly on some small LEDs without melting a hole through the board in short order.\n",
      "0 : An aftermarket has sprung up too, with delightfully innovative designs.\n",
      "3 : Combined laser/LED headlights are readily available on Alibaba, designed as a drop in replacement for projector lamps on existing vehicles.\n",
      "5 : These often use an LED low-beam, and a combined LED/laser high beam, where the laser diode shoots directly at the LED phosphor to excite it further, rather than using its own.\n",
      "2 : These units often also come with fan cooling to keep the laser and LEDs below their maximum operational temperature.\n",
      "1 : Such developments are exciting, though it’s important to be wary of the performance of unknown aftermarket headlights.\n",
      "3 : Many aftermarket LED headlight “upgrades” fail to pass muster when it comes to real-world performance, and there’s no reason to believe hybrid LED/laser designs will be any different.\n",
      "0 : We’d love to pass a selection of these parts through a full IIHS test protocol, but that’s sadly beyond the scope (and budget!) of this article.\n",
      "0 : However, [mikeselectricstuff] has happened to lay his hands on both the BMW and aftermarket parts, tearing them all down in his workshop to see what makes them tick.\n",
      "0 : The differences are multitude when laid bare on the bench.\n",
      "1 : The AliExpress part is relatively simple, wired up no differently from a regular headlight.\n",
      "2 : Interestingly, however, the laser high-beam circuit runs all the time in these parts.\n",
      "1 : To prevent blinding other road users, a shutter is kept in place to block the light, which is moved out of the way with a solenoid when the driver turns on the high beam switch.\n",
      "0 : Where the aftermarket part is a little out of left field, the BMW design is another thing entirely.\n",
      "1 : The cutting-edge headlights are hooked up with multiple connectors and over 30 conductors, with much of the driver electronics living in an external controller.\n",
      "2 : Much of this is to drive the various LEDs and stepper motors for slewing the headlights when steering.\n",
      "1 : However, the laser assembly brings its own complexities.\n",
      "4 : Twin light sensors are built inside to monitor the laser beam, and a special metal blocking arm sits directly in front of the diode, presumably to stop the laser light leaving the headlight in the event the phosphor coating burns through.\n",
      "2 : It’s truly wild to get a look inside a modern luxury car’s headlight and see just how far we’ve come from the old days of simple sealed beams.\n",
      "1 : Cost Versus PerformanceDespite the efficiency gains available, the technology remains expensive.\n",
      "1 : Powerful laser diodes don’t come cheap, after all.\n",
      "1 : However, as the technology trickles down to lower-end models, it’s likely that we could see economies of scale change that for the better.\n",
      "3 : Indeed, if national authorities begin to demand higher performance headlights as standard, we could see laser headlights become the norm, rather than an expensive luxury.\n",
      "2 : The technology could naturally be applied to home and commercial lighting, too — though we suspect the potential gains are limited enough that LED lighting will remain the norm for some time to come.\n",
      "2 : The high light output of laser headlights in a compact package allows engineers greater freedom when designing the front-end of a car.\n",
      "2 : As it currently stands, much of the appeal of the new technology is about the packaging benefits, which allow automotive designers greater freedom around the headlight area.\n",
      "0 : Such concerns are less of a factor when it comes to light fittings in the home or office, or indeed, on lower-end automobiles.\n",
      "1 : Regardless, it’s an exciting new application for lasers and one we’ll be sure to see more of in the future.  \n",
      "6 : Posted in car hacks, Engineering, Featured, Laser Hacks, SliderTagged laser, laser headlight, laser headlights, light \n"
     ]
    }
   ],
   "source": [
    "sentences = list(doc.sents)  # Thanks spacy for just giving us our sentences\n",
    "for sentence in sentences:\n",
    "    count = 0\n",
    "    for token in sentence:\n",
    "        if token.lemma_.lower() in cool_words:\n",
    "            count += 1\n",
    "    sent_str = str(sentence).replace('\\n', '').replace('  ','  ')\n",
    "    print(count, ':', sent_str)\n"
   ]
  },
  {
   "cell_type": "code",
   "execution_count": 9,
   "metadata": {},
   "outputs": [
    {
     "name": "stdout",
     "output_type": "stream",
     "text": [
      "15\n",
      "Engines, fuel efficiency, and the switch to electric power are all more front of mind.\n",
      "output: score_sentence_by_token:  6 / 15 0.4\n"
     ]
    }
   ],
   "source": [
    "top_tokens = ['laser', 'headlights', 'technology', 'headlight', 'led']\n",
    "sentences = list(doc.sents)\n",
    "\n",
    "def wordCount(sentence):\n",
    "    for count in sentences:\n",
    "        count = 0\n",
    "        for token in sentence:\n",
    "            if not (token.is_space or token.is_punct):\n",
    "                count += 1\n",
    "    sent_str = str(sentence).replace('\\n', ' ').replace(' ', ' ')\n",
    "    return count\n",
    "print(wordCount(sentences[2]))\n",
    "print(sentences[2])\n",
    "\n",
    "def score_sentence_by_token(sentence, interesting_token):\n",
    "    for sentence in sentences:\n",
    "        count1 = 0\n",
    "        for top_token in sentences:\n",
    "            if top_token in sentences:\n",
    "                count1 += 1\n",
    "total = wordCount(sentence)\n",
    "print('output: score_sentence_by_token: ',count, '/', total, count/total)\n",
    "               \n",
    "   \n",
    "  "
   ]
  },
  {
   "cell_type": "markdown",
   "metadata": {},
   "source": [
    "## Experiment"
   ]
  },
  {
   "cell_type": "code",
   "execution_count": 9,
   "metadata": {},
   "outputs": [
    {
     "name": "stdout",
     "output_type": "stream",
     "text": [
      "0.0\n"
     ]
    }
   ],
   "source": [
    "import spacy\n",
    "from spacytextblob.spacytextblob import SpacyTextBlob\n",
    "\n",
    "top_tokens = ['laser', 'headlights', 'technology', 'headlight', 'led']\n",
    "top_lemmas = ['laser', 'headlight', 'beam', 'technology', 'light']\n",
    "\n",
    "\n",
    "nlp = spacy.load(\"en_core_web_sm\")\n",
    "nlp.add_pipe('spacytextblob')\n",
    "top_tokens = ['laser', 'headlights', 'technology', 'headlight', 'led']\n",
    "text = \"top_tokens\" \n",
    "doc = nlp(text)\n",
    "print(doc._.polarity)"
   ]
  },
  {
   "cell_type": "code",
   "execution_count": 10,
   "metadata": {},
   "outputs": [
    {
     "name": "stdout",
     "output_type": "stream",
     "text": [
      "0.0\n"
     ]
    }
   ],
   "source": [
    "import spacy\n",
    "from spacytextblob.spacytextblob import SpacyTextBlob\n",
    "\n",
    "nlp = spacy.load(\"en_core_web_sm\")\n",
    "nlp.add_pipe('spacytextblob')\n",
    "top_lemmas = ['laser', 'headlight', 'beam', 'technology', 'light']\n",
    "text = \"top_lemmas\" \n",
    "doc = nlp(text)\n",
    "print(doc._.polarity)"
   ]
  },
  {
   "cell_type": "code",
   "execution_count": null,
   "metadata": {},
   "outputs": [],
   "source": [
    "import nltk\n",
    "nltk.download([\"averaged_perceptron_tagger\", \"punkt\", \"vader_lexicon\"])"
   ]
  },
  {
   "cell_type": "code",
   "execution_count": 11,
   "metadata": {},
   "outputs": [
    {
     "name": "stdout",
     "output_type": "stream",
     "text": [
      "12 \n",
      "\n",
      "How Laser Headlights Work\n",
      "\n",
      "\n",
      "                130 Comments            \n",
      "\n",
      "by:\n",
      "Lewin Day\n",
      "\n",
      "\n",
      "\n",
      "March 22, 2021\n",
      "\n",
      "\n",
      "\n",
      "\n",
      "\n",
      "\n",
      "\n",
      "\n",
      "\n",
      "{'neg': 0.0, 'neu': 1.0, 'pos': 0.0, 'compound': 0.0}\n"
     ]
    }
   ],
   "source": [
    "top_tokens = ['laser', 'headlights', 'technology', 'headlight', 'led']\n",
    "top_lemmas = ['laser', 'headlight', 'beam', 'technology', 'light']\n",
    "\n",
    "def wordCount(sentence):          \n",
    "    count = 0                                       # initialize a count to zero\n",
    "    for token in sentence:                          # for token in sentence:\n",
    "        if not (token.is_space or token.is_punct):  # if not (token.is_space or token.is_punct):\n",
    "            count += 1                              # increment the count\n",
    "    return count                                    # at the end return the count\n",
    "print(wordCount(sentences[0]), sentences[0])\n",
    "\n",
    "from nltk.sentiment import SentimentIntensityAnalyzer\n",
    "sia = SentimentIntensityAnalyzer()\n",
    "top_tokens = wordCount\n",
    "text = \"top_lemmas\" \n",
    "scores = sia.polarity_scores(text)\n",
    "print(scores)\n"
   ]
  },
  {
   "cell_type": "markdown",
   "metadata": {},
   "source": [
    "# Q6"
   ]
  },
  {
   "cell_type": "markdown",
   "metadata": {},
   "source": [
    "6. Make a list containing the scores (using tokens) of every sentence in the article, and plot a histogram with appropriate titles and axis labels of the scores. From your histogram, what seems to be the most common range of scores (put the answer in a comment after your code)?"
   ]
  },
  {
   "cell_type": "code",
   "execution_count": 10,
   "metadata": {},
   "outputs": [
    {
     "name": "stdout",
     "output_type": "stream",
     "text": [
      "6 : Posted in car hacks, Engineering, Featured, Laser Hacks, SliderTagged laser, laser headlight, laser headlights, light \n",
      "{'neg': 0.0, 'neu': 1.0, 'pos': 0.0, 'compound': 0.0}\n"
     ]
    }
   ],
   "source": [
    "sentences = list(doc.sents)  # Thanks spacy for just giving us our sentences\n",
    "for sentence in sentences:\n",
    "    count = 0\n",
    "    for token in sentence:\n",
    "        if token.lemma_.lower() in cool_words:\n",
    "            count += 1\n",
    "    sent_str = str(sentence).replace('\\n', '').replace('  ','  ')\n",
    "print(count, ':', sent_str)\n",
    "    \n",
    "import nltk\n",
    "from nltk.sentiment import SentimentIntensityAnalyzer\n",
    "sia = SentimentIntensityAnalyzer()\n",
    "top_lemmas = \"count\"\n",
    "text = \"top_lemmas\" \n",
    "scores = sia.polarity_scores(text)\n",
    "print(scores) "
   ]
  },
  {
   "cell_type": "code",
   "execution_count": 13,
   "metadata": {},
   "outputs": [
    {
     "name": "stdout",
     "output_type": "stream",
     "text": [
      "{'neg': 0.0, 'neu': 1.0, 'pos': 0.0, 'compound': 0.0}\n"
     ]
    }
   ],
   "source": [
    "\n",
    "\n",
    "from nltk.sentiment import SentimentIntensityAnalyzer\n",
    "sia = SentimentIntensityAnalyzer()\n",
    "text = \"('laser', 40), ('headlight', 28), ('beam', 12), ('led', 11), ('technology', 10)\"\n",
    "scores = sia.polarity_scores(text)\n",
    "print(scores)\n"
   ]
  },
  {
   "cell_type": "markdown",
   "metadata": {},
   "source": [
    "## Thegraph"
   ]
  },
  {
   "cell_type": "code",
   "execution_count": 12,
   "metadata": {},
   "outputs": [
    {
     "name": "stdout",
     "output_type": "stream",
     "text": [
      "15\n",
      "Engines, fuel efficiency, and the switch to electric power are all more front of mind.\n"
     ]
    },
    {
     "data": {
      "image/png": "[encoded data removed]",
      "text/plain": [
       "<Figure size 720x360 with 1 Axes>"
      ]
     },
     "metadata": {
      "needs_background": "light"
     },
     "output_type": "display_data"
    }
   ],
   "source": [
    "top_token = ['laser', 'headlights', 'technology', 'headlight', 'led']\n",
    "sentences = list(doc.sents)\n",
    "\n",
    "def wordCount(sentence):\n",
    "    for count in sentences:\n",
    "        count = 0\n",
    "        for token in sentence:\n",
    "            if not (token.is_space or token.is_punct):\n",
    "                count += 1\n",
    "    sent_str = str(sentence).replace('\\n', ' ').replace(' ', ' ')\n",
    "    return count\n",
    "print(wordCount(sentences[2]))\n",
    "print(sentences[2])\n",
    "\n",
    "def score_sentence_by_token(sentence, interesting_token):\n",
    "    for sentence in sentences:\n",
    "        count1 = 0\n",
    "        for top_token in sentences:\n",
    "            if top_token in sentences:\n",
    "                count1 += 1\n",
    "total = wordCount(sentence)\n",
    "score = total\n",
    "\n",
    "import matplotlib.pyplot as plt\n",
    "score = score\n",
    "frequency = list(top_token)\n",
    "fig = plt.figure(figsize = (10,5))\n",
    "plt.hist(frequency, score, color='blue', width = 0.5)\n",
    "plt.xlabel('Score')\n",
    "plt.ylabel('frequency')\n",
    "plt.title('frequency of sentiment in Article')\n",
    "plt.show()\n"
   ]
  },
  {
   "cell_type": "markdown",
   "metadata": {},
   "source": [
    "# Q7"
   ]
  },
  {
   "cell_type": "markdown",
   "metadata": {},
   "source": [
    "7. Make a list containing the scores (using lemmas) of every sentence in the article, and plot a histogram with appropriate titles and axis labels of the scores.  From your histogram, what seems to be the most common range of scores (put the answer in a comment after your code)?"
   ]
  },
  {
   "cell_type": "code",
   "execution_count": 17,
   "metadata": {},
   "outputs": [
    {
     "name": "stdout",
     "output_type": "stream",
     "text": [
      "15\n",
      "Engines, fuel efficiency, and the switch to electric power are all more front of mind.\n"
     ]
    },
    {
     "data": {
      "image/png": "[encoded data removed]",
      "text/plain": [
       "<Figure size 720x360 with 1 Axes>"
      ]
     },
     "metadata": {
      "needs_background": "light"
     },
     "output_type": "display_data"
    }
   ],
   "source": [
    "top_lemmas = ['laser', 'headlight', 'technology', 'headlight', 'led']\n",
    "sentences = list(doc.sents)\n",
    "\n",
    "def wordCount(sentence):\n",
    "    for count in sentences:\n",
    "        count = 0\n",
    "        for token in sentence:\n",
    "            if not (token.is_space or token.is_punct):\n",
    "                count += 1\n",
    "    sent_str = str(sentence).replace('\\n', ' ').replace(' ', ' ')\n",
    "    return count\n",
    "print(wordCount(sentences[2]))\n",
    "print(sentences[2])\n",
    "\n",
    "def score_sentence_by_lemmas(sentence, interesting_token):\n",
    "    for sentence in sentences:\n",
    "        count1 = 0\n",
    "        for top_token in sentences:\n",
    "            if top_lemmas in sentences:\n",
    "                count1 += 1\n",
    "total = wordCount(sentence)\n",
    "score = total\n",
    "import matplotlib.pyplot as plt\n",
    "import numpy as np\n",
    "score = score\n",
    "frequency = list(top_lemmas)\n",
    "fig = plt.figure(figsize = (10,5))\n",
    "plt.hist(frequency, score, color='blue', width = 0.5)\n",
    "plt.xlabel('Score')\n",
    "plt.ylabel('frequency')\n",
    "plt.title('frequency of sentiment in Article')\n",
    "plt.show()"
   ]
  },
  {
   "cell_type": "markdown",
   "metadata": {},
   "source": [
    "# Q8"
   ]
  },
  {
   "cell_type": "markdown",
   "metadata": {},
   "source": [
    "8. Which tokens and lexems would be ommitted from the lists generated in questions 3 and 4 if we only wanted to consider nouns as interesting words?  How might we change the code to only consider nouns? Put your answer in this Markdown cell (you can edit it by double clicking it)."
   ]
  },
  {
   "cell_type": "markdown",
   "metadata": {},
   "source": [
    "# This will give us all words\n",
    "from collections import Counter\n",
    "word_freq = Counter(map(str, interesting_tokens))\n",
    "print(word_freq.most_common())\n",
    " but by applying nouns= set()\n",
    " words like headlights would be ommited."
   ]
  },
  {
   "cell_type": "code",
   "execution_count": null,
   "metadata": {},
   "outputs": [],
   "source": []
  }
 ],
 "metadata": {
  "kernelspec": {
   "display_name": "Python 3 (ipykernel)",
   "language": "python",
   "name": "python3"
  },
  "language_info": {
   "codemirror_mode": {
    "name": "ipython",
    "version": 3
   },
   "file_extension": ".py",
   "mimetype": "text/x-python",
   "name": "python",
   "nbconvert_exporter": "python",
   "pygments_lexer": "ipython3",
   "version": "3.9.12"
  }
 },
 "nbformat": 4,
 "nbformat_minor": 4
}
